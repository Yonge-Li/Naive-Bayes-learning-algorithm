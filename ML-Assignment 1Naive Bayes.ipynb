{
 "cells": [
  {
   "cell_type": "markdown",
   "metadata": {},
   "source": [
    "# Machine Learning - Assignment 1\n",
    "\n",
    "## Naive Bayes Learning algorithm, Cross-validation, and ROC-Curves"
   ]
  },
  {
   "cell_type": "markdown",
   "metadata": {},
   "source": [
    "The aim of the assignment is to implement:\n",
    "\n",
    "* Naive Bayes learning algorithm for binary classification tasks\n",
    "* Visualization to plot a ROC-curve\n",
    "* A cross-validation test\n",
    "* Visualization of the average ROC-curve of a cross-validation test\n",
    "\n",
    "Follow the instructions and implement what is missing to complete the assignment. Some functions have been started to help you a little bit with the inputs or outputs of the function.\n",
    "\n",
    "**Note:** You might need to go back and forth during your implementation of the code. The structure is set up to make implementation easier, but how you return values from the different functions might vary, and you might find yourself going back and change something to make it easier later on."
   ]
  },
  {
   "cell_type": "markdown",
   "metadata": {},
   "source": [
    "## Assignment preparations"
   ]
  },
  {
   "cell_type": "markdown",
   "metadata": {},
   "source": [
    "We help you out with importing the libraries and reading the data.\n",
    "\n",
    "Look at the output to get an idea of how the data is structured."
   ]
  },
  {
   "cell_type": "code",
   "execution_count": 1,
   "metadata": {},
   "outputs": [
    {
     "name": "stdout",
     "output_type": "stream",
     "text": [
      "Full data array (features and labels):\n",
      "[[5.1 3.5 1.4 0.2 0]\n",
      " [4.9 3.0 1.4 0.2 0]]\n",
      "\n",
      "###############\n",
      "\n",
      "Train features (first 4 columns):\n",
      "[[5.1 3.5 1.4 0.2]\n",
      " [4.9 3.0 1.4 0.2]\n",
      " [4.7 3.2 1.3 0.2]]\n",
      "\n",
      "Labels (last column):\n",
      "[[0]\n",
      " [0]\n",
      " [0]]\n",
      "\n",
      "Names of labels:\n",
      "[[0, 'Iris-setosa'], [1, 'Iris-versicolor'], [2, 'Iris-virginica']]\n"
     ]
    }
   ],
   "source": [
    "import numpy as np\n",
    "import pandas as pd\n",
    "import matplotlib.pyplot as plt\n",
    "\n",
    "from math import e, pi, sqrt\n",
    "\n",
    "data = pd.read_csv(\"iris.csv\").to_numpy()\n",
    "#data = np.delete(data, 0, axis=0)\n",
    "\n",
    "mapped, index, unique_arr = np.unique(data[:, -1], return_index=True, return_inverse=True)\n",
    "data[:, -1] = unique_arr\n",
    "\n",
    "iris_setosa, iris_versicolor, iris_virginica = np.split(data, index[1:])\n",
    "\n",
    "print(f\"Full data array (features and labels):\\n{iris_setosa[:2]}\\n\")\n",
    "print(\"###############\\n\")\n",
    "print(f\"Train features (first 4 columns):\\n{iris_setosa[:3, :-1]}\\n\")\n",
    "print(f\"Labels (last column):\\n{iris_setosa[:3, -1:]}\\n\")\n",
    "print(f\"Names of labels:\\n{[[numb, name] for numb, name in enumerate(mapped)]}\")\n",
    "labels_info = [[numb, name] for numb, name in enumerate(mapped)]\n",
    "class_labels = [label[0] for label in labels_info]\n",
    "\n"
   ]
  },
  {
   "cell_type": "code",
   "execution_count": 2,
   "metadata": {},
   "outputs": [
    {
     "data": {
      "text/plain": [
       "array([[5.1, 3.5, 1.4, 0.2, 0],\n",
       "       [4.9, 3.0, 1.4, 0.2, 0],\n",
       "       [4.7, 3.2, 1.3, 0.2, 0]], dtype=object)"
      ]
     },
     "execution_count": 2,
     "metadata": {},
     "output_type": "execute_result"
    }
   ],
   "source": [
    "# Example print of the 3 first datapoints (similar as above):\n",
    "iris_setosa[:3]"
   ]
  },
  {
   "cell_type": "markdown",
   "metadata": {},
   "source": [
    "## Data handling functions\n",
    "\n",
    "As a start, we are going to implement some basic data handling functions to use in the future."
   ]
  },
  {
   "cell_type": "markdown",
   "metadata": {},
   "source": [
    "### 1) Split class into a train and test set\n",
    "\n",
    "First, we need to be able to split the class into a train and test set."
   ]
  },
  {
   "cell_type": "code",
   "execution_count": 3,
   "metadata": {},
   "outputs": [],
   "source": [
    "def train_test_split(class_data, test_size=0.2, random_state=42):\n",
    "\n",
    "    unique_classes = np.unique(class_data[:, -1])\n",
    "\n",
    "    if not 0 < test_size < 1:\n",
    "        raise ValueError(\"test_size must be between 0 and 1.\")\n",
    "\n",
    "    class_data = np.array(class_data)\n",
    "\n",
    "    indices = np.arange(len(class_data))\n",
    "    np.random.shuffle(indices)\n",
    "\n",
    "    split_idx = int(len(class_data) * (1 - test_size))\n",
    "\n",
    "    # Split the data into train and test sets\n",
    "    train_indices = indices[:split_idx]\n",
    "    test_indices = indices[split_idx:]\n",
    "\n",
    "    train = class_data[train_indices]\n",
    "    test = class_data[test_indices]\n",
    "\n",
    "    return train, test"
   ]
  },
  {
   "cell_type": "code",
   "execution_count": 4,
   "metadata": {},
   "outputs": [
    {
     "name": "stdout",
     "output_type": "stream",
     "text": [
      "Train: [[5.5 2.5 4.0 1.3 1]\n",
      " [7.7 2.6 6.9 2.3 2]\n",
      " [5.8 2.7 3.9 1.2 1]\n",
      " [7.4 2.8 6.1 1.9 2]\n",
      " [6.2 2.8 4.8 1.8 2]\n",
      " [5.9 3.2 4.8 1.8 1]\n",
      " [6.2 2.9 4.3 1.3 1]\n",
      " [6.4 3.2 4.5 1.5 1]\n",
      " [6.6 3.0 4.4 1.4 1]\n",
      " [5.4 3.9 1.3 0.4 0]\n",
      " [5.5 2.4 3.7 1.0 1]\n",
      " [6.9 3.2 5.7 2.3 2]\n",
      " [5.8 2.7 5.1 1.9 2]\n",
      " [6.1 2.8 4.0 1.3 1]\n",
      " [5.6 2.8 4.9 2.0 2]\n",
      " [6.7 3.1 4.7 1.5 1]\n",
      " [6.0 2.7 5.1 1.6 1]\n",
      " [5.9 3.0 5.1 1.8 2]\n",
      " [4.5 2.3 1.3 0.3 0]\n",
      " [6.3 2.3 4.4 1.3 1]\n",
      " [6.6 2.9 4.6 1.3 1]\n",
      " [6.2 3.4 5.4 2.3 2]\n",
      " [7.2 3.6 6.1 2.5 2]\n",
      " [4.9 3.0 1.4 0.2 0]\n",
      " [7.9 3.8 6.4 2.0 2]\n",
      " [4.6 3.1 1.5 0.2 0]\n",
      " [6.3 2.9 5.6 1.8 2]\n",
      " [6.4 2.7 5.3 1.9 2]\n",
      " [6.1 3.0 4.6 1.4 1]\n",
      " [5.1 3.7 1.5 0.4 0]\n",
      " [5.7 2.6 3.5 1.0 1]\n",
      " [4.9 2.4 3.3 1.0 1]\n",
      " [5.0 3.4 1.5 0.2 0]\n",
      " [4.8 3.4 1.9 0.2 0]\n",
      " [6.3 2.5 4.9 1.5 1]\n",
      " [5.8 4.0 1.2 0.2 0]\n",
      " [7.2 3.0 5.8 1.6 2]\n",
      " [6.7 3.3 5.7 2.1 2]\n",
      " [6.5 3.2 5.1 2.0 2]\n",
      " [5.1 3.5 1.4 0.3 0]\n",
      " [6.0 3.0 4.8 1.8 2]\n",
      " [5.1 3.8 1.5 0.3 0]\n",
      " [6.7 3.3 5.7 2.5 2]\n",
      " [6.0 2.2 5.0 1.5 2]\n",
      " [6.7 3.0 5.2 2.3 2]\n",
      " [7.7 3.8 6.7 2.2 2]\n",
      " [6.5 3.0 5.2 2.0 2]\n",
      " [5.0 3.5 1.3 0.3 0]\n",
      " [4.3 3.0 1.1 0.1 0]\n",
      " [5.0 3.4 1.6 0.4 0]\n",
      " [7.1 3.0 5.9 2.1 2]\n",
      " [7.7 3.0 6.1 2.3 2]\n",
      " [6.2 2.2 4.5 1.5 1]\n",
      " [5.8 2.6 4.0 1.2 1]\n",
      " [5.7 3.0 4.2 1.2 1]\n",
      " [4.9 3.1 1.5 0.1 0]\n",
      " [5.5 4.2 1.4 0.2 0]\n",
      " [6.8 2.8 4.8 1.4 1]\n",
      " [7.3 2.9 6.3 1.8 2]\n",
      " [5.8 2.8 5.1 2.4 2]\n",
      " [4.8 3.4 1.6 0.2 0]\n",
      " [5.7 2.8 4.5 1.3 1]\n",
      " [6.8 3.0 5.5 2.1 2]\n",
      " [4.8 3.1 1.6 0.2 0]\n",
      " [5.5 2.3 4.0 1.3 1]\n",
      " [4.6 3.2 1.4 0.2 0]\n",
      " [6.7 3.0 5.0 1.7 1]\n",
      " [5.2 4.1 1.5 0.1 0]\n",
      " [6.3 3.4 5.6 2.4 2]\n",
      " [5.6 3.0 4.1 1.3 1]\n",
      " [6.1 2.9 4.7 1.4 1]\n",
      " [7.0 3.2 4.7 1.4 1]\n",
      " [4.8 3.0 1.4 0.3 0]\n",
      " [5.2 2.7 3.9 1.4 1]\n",
      " [5.6 2.9 3.6 1.3 1]\n",
      " [6.5 3.0 5.5 1.8 2]\n",
      " [5.0 3.5 1.6 0.6 0]\n",
      " [5.3 3.7 1.5 0.2 0]\n",
      " [5.4 3.4 1.7 0.2 0]\n",
      " [5.1 3.5 1.4 0.2 0]\n",
      " [5.1 3.8 1.9 0.4 0]\n",
      " [5.5 3.5 1.3 0.2 0]\n",
      " [4.7 3.2 1.6 0.2 0]\n",
      " [4.6 3.4 1.4 0.3 0]\n",
      " [6.0 2.9 4.5 1.5 1]\n",
      " [6.9 3.1 5.1 2.3 2]\n",
      " [6.1 2.6 5.6 1.4 2]\n",
      " [6.8 3.2 5.9 2.3 2]\n",
      " [6.1 3.0 4.9 1.8 2]\n",
      " [4.4 3.0 1.3 0.2 0]\n",
      " [6.4 2.8 5.6 2.2 2]\n",
      " [6.3 3.3 4.7 1.6 1]\n",
      " [6.3 3.3 6.0 2.5 2]\n",
      " [6.9 3.1 4.9 1.5 1]\n",
      " [6.7 3.1 5.6 2.4 2]\n",
      " [4.8 3.0 1.4 0.1 0]\n",
      " [4.4 3.2 1.3 0.2 0]\n",
      " [5.1 2.5 3.0 1.1 1]\n",
      " [5.6 3.0 4.5 1.5 1]\n",
      " [7.6 3.0 6.6 2.1 2]\n",
      " [6.1 2.8 4.7 1.2 1]\n",
      " [5.1 3.3 1.7 0.5 0]\n",
      " [4.7 3.2 1.3 0.2 0]\n",
      " [5.7 2.5 5.0 2.0 2]\n",
      " [6.3 2.5 5.0 1.9 2]\n",
      " [6.9 3.1 5.4 2.1 2]\n",
      " [6.3 2.8 5.1 1.5 2]\n",
      " [6.7 3.1 4.4 1.4 1]\n",
      " [6.5 3.0 5.8 2.2 2]\n",
      " [5.4 3.0 4.5 1.5 1]\n",
      " [6.0 3.4 4.5 1.6 1]\n",
      " [7.2 3.2 6.0 1.8 2]\n",
      " [6.7 2.5 5.8 1.8 2]\n",
      " [6.5 2.8 4.6 1.5 1]\n",
      " [5.0 3.3 1.4 0.2 0]\n",
      " [4.6 3.6 1.0 0.2 0]\n",
      " [5.0 3.6 1.4 0.2 0]\n",
      " [6.4 3.1 5.5 1.8 2]\n",
      " [5.8 2.7 5.1 1.9 2]\n",
      " [7.7 2.8 6.7 2.0 2]]\n",
      "\n",
      "Test: [[6.4 2.8 5.6 2.1 2]\n",
      " [5.7 4.4 1.5 0.4 0]\n",
      " [5.8 2.7 4.1 1.0 1]\n",
      " [5.5 2.6 4.4 1.2 1]\n",
      " [5.5 2.4 3.8 1.1 1]\n",
      " [5.1 3.8 1.6 0.2 0]\n",
      " [6.4 3.2 5.3 2.3 2]\n",
      " [5.9 3.0 4.2 1.5 1]\n",
      " [4.9 3.1 1.5 0.1 0]\n",
      " [5.4 3.7 1.5 0.2 0]\n",
      " [5.1 3.4 1.5 0.2 0]\n",
      " [5.7 3.8 1.7 0.3 0]\n",
      " [5.6 2.7 4.2 1.3 1]\n",
      " [4.9 2.5 4.5 1.7 2]\n",
      " [5.0 2.3 3.3 1.0 1]\n",
      " [6.4 2.9 4.3 1.3 1]\n",
      " [5.4 3.9 1.7 0.4 0]\n",
      " [6.0 2.2 4.0 1.0 1]\n",
      " [6.3 2.7 4.9 1.8 2]\n",
      " [5.2 3.4 1.4 0.2 0]\n",
      " [5.0 3.0 1.6 0.2 0]\n",
      " [5.0 2.0 3.5 1.0 1]\n",
      " [5.0 3.2 1.2 0.2 0]\n",
      " [5.4 3.4 1.5 0.4 0]\n",
      " [5.7 2.8 4.1 1.3 1]\n",
      " [5.7 2.9 4.2 1.3 1]\n",
      " [5.6 2.5 3.9 1.1 1]\n",
      " [5.2 3.5 1.5 0.2 0]\n",
      " [4.4 2.9 1.4 0.2 0]\n",
      " [4.9 3.1 1.5 0.1 0]]\n"
     ]
    }
   ],
   "source": [
    "# TODO: Test the train_test_split function\n",
    "\n",
    "train, test = train_test_split(data)\n",
    "\n",
    "# TODO: Print the output\n",
    "print(\"Train:\", train)\n",
    "print(\"\\nTest:\", test)\n"
   ]
  },
  {
   "cell_type": "markdown",
   "metadata": {},
   "source": [
    "### 2) Split data into features and labels\n",
    "\n",
    "The data as shown above is not always the optimal shape. To help us keep track of things, we can split the data into its features and labels seperately.\n",
    "\n",
    "Each class is 4 features and 1 label in the same array: \n",
    "\n",
    "* **[feature 1, feature 2, feature 3, feature 4, label]**\n",
    "\n",
    "It would help us later to have the features and labels in seperate arrays in the form: \n",
    "\n",
    "* **[feature 1, feature 2, feature 3, feature 4]** and **[label]**\n",
    "\n",
    "Here you are going to implement this functionallity."
   ]
  },
  {
   "cell_type": "code",
   "execution_count": 5,
   "metadata": {},
   "outputs": [],
   "source": [
    "def class_split(data):\n",
    "    features = data[:, :-1].astype(float)\n",
    "    labels = data[:, -1].astype(int)\n",
    "    return features, labels"
   ]
  },
  {
   "cell_type": "markdown",
   "metadata": {},
   "source": [
    "We should first test the \"**class_split**\" function on one of the classes above (iris_setosa, etc...) to make sure it works properly."
   ]
  },
  {
   "cell_type": "code",
   "execution_count": 6,
   "metadata": {},
   "outputs": [
    {
     "name": "stdout",
     "output_type": "stream",
     "text": [
      "Features:\n",
      " [[5.1 3.5 1.4 0.2]\n",
      " [4.9 3.  1.4 0.2]\n",
      " [4.7 3.2 1.3 0.2]\n",
      " [4.6 3.1 1.5 0.2]\n",
      " [5.  3.6 1.4 0.2]\n",
      " [5.4 3.9 1.7 0.4]\n",
      " [4.6 3.4 1.4 0.3]\n",
      " [5.  3.4 1.5 0.2]\n",
      " [4.4 2.9 1.4 0.2]\n",
      " [4.9 3.1 1.5 0.1]\n",
      " [5.4 3.7 1.5 0.2]\n",
      " [4.8 3.4 1.6 0.2]\n",
      " [4.8 3.  1.4 0.1]\n",
      " [4.3 3.  1.1 0.1]\n",
      " [5.8 4.  1.2 0.2]\n",
      " [5.7 4.4 1.5 0.4]\n",
      " [5.4 3.9 1.3 0.4]\n",
      " [5.1 3.5 1.4 0.3]\n",
      " [5.7 3.8 1.7 0.3]\n",
      " [5.1 3.8 1.5 0.3]\n",
      " [5.4 3.4 1.7 0.2]\n",
      " [5.1 3.7 1.5 0.4]\n",
      " [4.6 3.6 1.  0.2]\n",
      " [5.1 3.3 1.7 0.5]\n",
      " [4.8 3.4 1.9 0.2]\n",
      " [5.  3.  1.6 0.2]\n",
      " [5.  3.4 1.6 0.4]\n",
      " [5.2 3.5 1.5 0.2]\n",
      " [5.2 3.4 1.4 0.2]\n",
      " [4.7 3.2 1.6 0.2]\n",
      " [4.8 3.1 1.6 0.2]\n",
      " [5.4 3.4 1.5 0.4]\n",
      " [5.2 4.1 1.5 0.1]\n",
      " [5.5 4.2 1.4 0.2]\n",
      " [4.9 3.1 1.5 0.1]\n",
      " [5.  3.2 1.2 0.2]\n",
      " [5.5 3.5 1.3 0.2]\n",
      " [4.9 3.1 1.5 0.1]\n",
      " [4.4 3.  1.3 0.2]\n",
      " [5.1 3.4 1.5 0.2]\n",
      " [5.  3.5 1.3 0.3]\n",
      " [4.5 2.3 1.3 0.3]\n",
      " [4.4 3.2 1.3 0.2]\n",
      " [5.  3.5 1.6 0.6]\n",
      " [5.1 3.8 1.9 0.4]\n",
      " [4.8 3.  1.4 0.3]\n",
      " [5.1 3.8 1.6 0.2]\n",
      " [4.6 3.2 1.4 0.2]\n",
      " [5.3 3.7 1.5 0.2]\n",
      " [5.  3.3 1.4 0.2]]\n",
      "Labels:\n",
      " [0 0 0 0 0 0 0 0 0 0 0 0 0 0 0 0 0 0 0 0 0 0 0 0 0 0 0 0 0 0 0 0 0 0 0 0 0\n",
      " 0 0 0 0 0 0 0 0 0 0 0 0 0]\n"
     ]
    }
   ],
   "source": [
    "# TODO: Test the class splitting function\n",
    "feature_data, feature_labels = class_split(iris_setosa)\n",
    "# Print the output\n",
    "print(\"Features:\\n\", feature_data)\n",
    "print(\"Labels:\\n\", feature_labels)"
   ]
  },
  {
   "cell_type": "markdown",
   "metadata": {},
   "source": [
    "We should also try to **1)** first split a class into a train and test set, **2)** split each of these two into features and abels. In total there should be 4 arrays (2 feature and 2 label arrays)."
   ]
  },
  {
   "cell_type": "code",
   "execution_count": 7,
   "metadata": {},
   "outputs": [
    {
     "name": "stdout",
     "output_type": "stream",
     "text": [
      "Train data Features:\n",
      " [[5.1 3.3 1.7 0.5]\n",
      " [5.1 3.8 1.6 0.2]\n",
      " [5.  3.  1.6 0.2]\n",
      " [4.8 3.1 1.6 0.2]\n",
      " [4.4 3.  1.3 0.2]\n",
      " [5.4 3.4 1.7 0.2]\n",
      " [5.1 3.8 1.9 0.4]\n",
      " [5.2 3.5 1.5 0.2]\n",
      " [4.8 3.4 1.9 0.2]\n",
      " [5.1 3.5 1.4 0.2]\n",
      " [5.3 3.7 1.5 0.2]\n",
      " [5.4 3.9 1.3 0.4]\n",
      " [4.6 3.6 1.  0.2]\n",
      " [4.9 3.1 1.5 0.1]\n",
      " [5.  3.4 1.5 0.2]\n",
      " [4.6 3.4 1.4 0.3]\n",
      " [5.1 3.4 1.5 0.2]\n",
      " [5.  3.5 1.6 0.6]\n",
      " [5.7 4.4 1.5 0.4]\n",
      " [5.4 3.4 1.5 0.4]\n",
      " [5.4 3.9 1.7 0.4]\n",
      " [4.7 3.2 1.3 0.2]\n",
      " [5.7 3.8 1.7 0.3]\n",
      " [5.  3.4 1.6 0.4]\n",
      " [5.5 3.5 1.3 0.2]\n",
      " [4.4 3.2 1.3 0.2]\n",
      " [4.8 3.4 1.6 0.2]\n",
      " [5.8 4.  1.2 0.2]\n",
      " [5.4 3.7 1.5 0.2]\n",
      " [5.1 3.7 1.5 0.4]\n",
      " [4.6 3.1 1.5 0.2]\n",
      " [4.9 3.  1.4 0.2]\n",
      " [4.9 3.1 1.5 0.1]\n",
      " [4.7 3.2 1.6 0.2]\n",
      " [5.  3.2 1.2 0.2]\n",
      " [4.4 2.9 1.4 0.2]\n",
      " [4.9 3.1 1.5 0.1]\n",
      " [5.2 3.4 1.4 0.2]\n",
      " [5.2 4.1 1.5 0.1]\n",
      " [4.3 3.  1.1 0.1]]\n",
      "Train data Label:\n",
      " [0 0 0 0 0 0 0 0 0 0 0 0 0 0 0 0 0 0 0 0 0 0 0 0 0 0 0 0 0 0 0 0 0 0 0 0 0\n",
      " 0 0 0]\n",
      "Test data Features:\n",
      " [[5.1 3.8 1.5 0.3]\n",
      " [5.  3.5 1.3 0.3]\n",
      " [5.1 3.5 1.4 0.3]\n",
      " [4.8 3.  1.4 0.1]\n",
      " [5.  3.3 1.4 0.2]\n",
      " [4.8 3.  1.4 0.3]\n",
      " [5.  3.6 1.4 0.2]\n",
      " [4.5 2.3 1.3 0.3]\n",
      " [4.6 3.2 1.4 0.2]\n",
      " [5.5 4.2 1.4 0.2]]\n",
      "Test data Label:\n",
      " [0 0 0 0 0 0 0 0 0 0]\n"
     ]
    }
   ],
   "source": [
    "# TODO: Use the above data handling functions to make 2 feature arrays and 2 label arrays. \n",
    "\n",
    "iris_setosa_data = np.array(iris_setosa)\n",
    "iris_setosa_train_data, iris_setosa_test_data = train_test_split(iris_setosa_data)\n",
    "iris_setosa_train_data = np.array(iris_setosa_train_data)\n",
    "iris_setosa_test_data = np.array(iris_setosa_test_data)\n",
    "iris_setosa_train_features,iris_setosa_train_label = class_split(iris_setosa_train_data)\n",
    "iris_setosa_test_features,iris_setosa_test_label = class_split(iris_setosa_test_data)\n",
    "\n",
    "\n",
    "# TODO: Print the output (you may use multiple print-statements if you wish)\n",
    "\n",
    "print('Train data Features:\\n', iris_setosa_train_features)\n",
    "print('Train data Label:\\n', iris_setosa_train_label)\n",
    "print('Test data Features:\\n', iris_setosa_test_features)\n",
    "print('Test data Label:\\n', iris_setosa_test_label)"
   ]
  },
  {
   "cell_type": "markdown",
   "metadata": {},
   "source": [
    "Think a bit before going to the next task, what can easily go wrong in the above code?"
   ]
  },
  {
   "cell_type": "markdown",
   "metadata": {},
   "source": [
    "## Naive Bayes learning algorithm"
   ]
  },
  {
   "cell_type": "markdown",
   "metadata": {},
   "source": [
    "When implementing the Navie Bayes learning algorithm, we can break it down into a few components.\n",
    "\n",
    "We will implement these components one at a time."
   ]
  },
  {
   "cell_type": "markdown",
   "metadata": {},
   "source": [
    "### 3) Calculate feature statistics\n",
    "\n",
    "First, we need to implement a function that returns feature statistics (means, standard deviation, priors) for a given set of feature data for a single class. This is the equivalent of \"training\" the naive bayes model.\n",
    "\n",
    "**Note 1:** Each feature gets its own mean and standard deviation!\n",
    "\n",
    "**Note 2:** The way you structure the functions (what is returned) shapes the remainder of the assignment."
   ]
  },
  {
   "cell_type": "code",
   "execution_count": 8,
   "metadata": {},
   "outputs": [],
   "source": [
    "def calculate_feature_statistics(feature_data,class_labels):\n",
    "    \n",
    "    # TODO: Complete this function so that it returns the feature statistics for the input data.\n",
    "    \n",
    "    feature_stats = {}\n",
    "    unique_labels = np.unique(class_labels)\n",
    "    \n",
    "    for class_label in unique_labels:\n",
    "\n",
    "        class_data = feature_data[class_labels == class_label]\n",
    "        class_data = class_data.astype(float)\n",
    "        means = np.mean(class_data, axis=0)\n",
    "        std = np.std(class_data, axis=0)\n",
    "        prior = len(class_data) / len(feature_data)\n",
    "        feature_stats[class_label] = {\n",
    "            'mean': means,\n",
    "            'std': std,\n",
    "            'prior': prior\n",
    "        }\n",
    "    \n",
    "    return feature_stats\n",
    "    # You choose how you return the statistics"
   ]
  },
  {
   "cell_type": "markdown",
   "metadata": {},
   "source": [
    "To make sure the function works, we should test it before proceding."
   ]
  },
  {
   "cell_type": "code",
   "execution_count": 9,
   "metadata": {},
   "outputs": [
    {
     "name": "stdout",
     "output_type": "stream",
     "text": [
      "{np.int64(0): {'mean': array([5.006, 3.418, 1.464, 0.244]), 'std': array([0.34894699, 0.37719491, 0.17176728, 0.10613199]), 'prior': 1.0}}\n"
     ]
    }
   ],
   "source": [
    "# TODO: Test the function here for one of the dataset classes.\n",
    "feature_stats = calculate_feature_statistics(feature_data,feature_labels)\n",
    "\n",
    "# TODO: Print the output from the feature statistic function.\n",
    "print(feature_stats) "
   ]
  },
  {
   "cell_type": "markdown",
   "metadata": {},
   "source": [
    "### 4) Gaussian probability density function (Gaussian PDF)\n",
    "\n",
    "Now we need to implement the gaussian probability density function to use for a single datapoint.\n",
    "\n",
    "**Note:** Look at the imports in the first cell at the top, it has some math numbers for easy use here. "
   ]
  },
  {
   "cell_type": "code",
   "execution_count": 10,
   "metadata": {},
   "outputs": [],
   "source": [
    "\n",
    "def gaussian_probability_density_function(x, mean, std):\n",
    "    x = np.array(x, dtype=np.float64)\n",
    "    mean = np.array(mean)\n",
    "    std = np.array(std)\n",
    "\n",
    "    epsilon = 1e-8  # To prevent division by zero\n",
    "    std = np.where(std == 0, epsilon, std)\n",
    "\n",
    "    exponent = np.exp(-((x - mean) ** 2) / (2 * std ** 2))\n",
    "    return (1 / (np.sqrt(2 * np.pi) * std)) * exponent\n"
   ]
  },
  {
   "cell_type": "markdown",
   "metadata": {},
   "source": [
    "### 5) Testing Gaussian PDF"
   ]
  },
  {
   "cell_type": "markdown",
   "metadata": {},
   "source": [
    "We should test it to make sure it works. Train it, using the \"calculate_feature_statistics\" function, on one of the dataset classes. Then, take one datapoint from the same class and use naive bayes gaussian to make a prediction."
   ]
  },
  {
   "cell_type": "code",
   "execution_count": 11,
   "metadata": {},
   "outputs": [
    {
     "name": "stdout",
     "output_type": "stream",
     "text": [
      "Probability density: [1.07047807 0.66474467 2.14005103 3.116955  ]\n"
     ]
    }
   ],
   "source": [
    "# TODO: Implement the code below to test the \"gaussian_probability_density_function\" function for one of the classes.\n",
    "iris_setosa_feature_stats = calculate_feature_statistics(iris_setosa_train_features,iris_setosa_train_label)\n",
    "\n",
    "# TODO: Test with one datapoint from the learned class.\n",
    "x = iris_setosa_test_features[0]\n",
    "for class_label, stats in iris_setosa_feature_stats.items():\n",
    "    means = stats['mean']\n",
    "    stdevs = stats['std']\n",
    "x = np.array(x, dtype = np.float64)\n",
    "prob_density = gaussian_probability_density_function(x, means, stdevs)\n",
    "\n",
    "# TODO: Print the probability density\n",
    "print(\"Probability density:\", prob_density)"
   ]
  },
  {
   "cell_type": "markdown",
   "metadata": {},
   "source": [
    "As a test, take one datapoint from one of the other classes and see if the predicted probability changes."
   ]
  },
  {
   "cell_type": "code",
   "execution_count": 12,
   "metadata": {},
   "outputs": [
    {
     "name": "stdout",
     "output_type": "stream",
     "text": [
      "[4.38984486e-07 9.18842672e-01 1.16749830e-65 1.65331851e-22]\n"
     ]
    }
   ],
   "source": [
    "# TODO: Take one datapoint from one of the other classes.\n",
    "iris_versicolor_features, iris_versicolor_labels = class_split(iris_versicolor)\n",
    "iris_versicolor_feature_stats = calculate_feature_statistics(iris_versicolor_features, iris_versicolor_labels[0])\n",
    "y = iris_versicolor_features[0]\n",
    "\n",
    "# TODO: Use naive bayes gaussian on this datapoint with the same feature statistics as the first class.\n",
    "\n",
    "for class_label, stats in iris_setosa_feature_stats.items():\n",
    "    means = stats['mean']\n",
    "    stdevs = stats['std']\n",
    "    \n",
    "prob_density_other_class = gaussian_probability_density_function(y, means, stdevs)\n",
    "\n",
    "# TODO: Print the probability\n",
    "print(prob_density_other_class)"
   ]
  },
  {
   "cell_type": "markdown",
   "metadata": {},
   "source": [
    "Think a bit why the probability changes, what could affect the prediction?"
   ]
  },
  {
   "cell_type": "markdown",
   "metadata": {},
   "source": [
    "## Prepare Naive Bayes for binary classification"
   ]
  },
  {
   "cell_type": "markdown",
   "metadata": {},
   "source": [
    "### 6) Prepare the data for inference\n",
    "\n",
    "Before we train and test the naive bayes for multiple classes, we should get our data in order.\n",
    "\n",
    "Similar to how we did previously, we should now split two classes into a train and test set, you may choose which two classes freely."
   ]
  },
  {
   "cell_type": "code",
   "execution_count": 13,
   "metadata": {},
   "outputs": [
    {
     "name": "stdout",
     "output_type": "stream",
     "text": [
      "Training feature set: \n",
      " [[5.8 2.7 4.1 1. ]\n",
      " [4.9 3.1 1.5 0.1]\n",
      " [6.6 3.  4.4 1.4]\n",
      " [6.  2.2 4.  1. ]\n",
      " [5.7 4.4 1.5 0.4]\n",
      " [4.4 2.9 1.4 0.2]\n",
      " [5.6 2.9 3.6 1.3]\n",
      " [4.7 3.2 1.6 0.2]\n",
      " [5.  3.5 1.3 0.3]\n",
      " [5.1 3.5 1.4 0.3]\n",
      " [5.3 3.7 1.5 0.2]\n",
      " [5.  3.4 1.6 0.4]\n",
      " [6.  2.9 4.5 1.5]\n",
      " [6.7 3.1 4.4 1.4]\n",
      " [4.9 3.1 1.5 0.1]\n",
      " [6.  3.4 4.5 1.6]\n",
      " [6.5 2.8 4.6 1.5]\n",
      " [5.5 4.2 1.4 0.2]\n",
      " [5.  3.  1.6 0.2]\n",
      " [5.8 2.7 3.9 1.2]\n",
      " [4.7 3.2 1.3 0.2]\n",
      " [5.1 3.4 1.5 0.2]\n",
      " [4.4 3.2 1.3 0.2]\n",
      " [4.8 3.4 1.6 0.2]\n",
      " [6.2 2.2 4.5 1.5]\n",
      " [6.3 2.3 4.4 1.3]\n",
      " [5.5 2.4 3.7 1. ]\n",
      " [5.4 3.9 1.3 0.4]\n",
      " [4.8 3.  1.4 0.1]\n",
      " [6.7 3.1 4.7 1.5]\n",
      " [4.9 3.  1.4 0.2]\n",
      " [5.2 2.7 3.9 1.4]\n",
      " [6.  2.7 5.1 1.6]\n",
      " [5.7 3.  4.2 1.2]\n",
      " [5.7 2.8 4.1 1.3]\n",
      " [5.1 3.8 1.6 0.2]\n",
      " [5.  3.6 1.4 0.2]\n",
      " [7.  3.2 4.7 1.4]\n",
      " [5.6 2.7 4.2 1.3]\n",
      " [6.6 2.9 4.6 1.3]\n",
      " [4.6 3.2 1.4 0.2]\n",
      " [6.7 3.  5.  1.7]\n",
      " [5.7 2.8 4.5 1.3]\n",
      " [6.9 3.1 4.9 1.5]\n",
      " [5.  3.4 1.5 0.2]\n",
      " [5.2 4.1 1.5 0.1]\n",
      " [5.1 3.8 1.5 0.3]\n",
      " [5.5 3.5 1.3 0.2]\n",
      " [4.4 3.  1.3 0.2]\n",
      " [6.1 2.8 4.  1.3]\n",
      " [5.6 3.  4.5 1.5]\n",
      " [5.2 3.5 1.5 0.2]\n",
      " [5.8 2.6 4.  1.2]\n",
      " [6.3 3.3 4.7 1.6]\n",
      " [5.1 2.5 3.  1.1]\n",
      " [6.4 2.9 4.3 1.3]\n",
      " [5.7 3.8 1.7 0.3]\n",
      " [4.8 3.1 1.6 0.2]\n",
      " [5.  2.  3.5 1. ]\n",
      " [5.9 3.  4.2 1.5]\n",
      " [4.6 3.4 1.4 0.3]\n",
      " [5.1 3.7 1.5 0.4]\n",
      " [5.5 2.3 4.  1.3]\n",
      " [5.1 3.5 1.4 0.2]\n",
      " [6.1 2.9 4.7 1.4]\n",
      " [5.4 3.4 1.5 0.4]\n",
      " [5.  3.2 1.2 0.2]\n",
      " [4.8 3.  1.4 0.3]\n",
      " [5.8 4.  1.2 0.2]\n",
      " [5.4 3.7 1.5 0.2]\n",
      " [5.6 3.  4.1 1.3]\n",
      " [4.8 3.4 1.9 0.2]\n",
      " [6.1 2.8 4.7 1.2]\n",
      " [4.9 2.4 3.3 1. ]\n",
      " [5.1 3.8 1.9 0.4]\n",
      " [5.  3.3 1.4 0.2]\n",
      " [6.3 2.5 4.9 1.5]\n",
      " [5.7 2.6 3.5 1. ]\n",
      " [5.9 3.2 4.8 1.8]\n",
      " [6.8 2.8 4.8 1.4]]\n",
      "Training label set: \n",
      " [1 0 1 1 0 0 1 0 0 0 0 0 1 1 0 1 1 0 0 1 0 0 0 0 1 1 1 0 0 1 0 1 1 1 1 0 0\n",
      " 1 1 1 0 1 1 1 0 0 0 0 0 1 1 0 1 1 1 1 0 0 1 1 0 0 1 0 1 0 0 0 0 0 1 0 1 1\n",
      " 0 0 1 1 1 1]\n",
      "\n",
      "Testing feature set:\n",
      " [[5.2 3.4 1.4 0.2]\n",
      " [6.4 3.2 4.5 1.5]\n",
      " [4.6 3.1 1.5 0.2]\n",
      " [5.7 2.9 4.2 1.3]\n",
      " [5.  2.3 3.3 1. ]\n",
      " [4.5 2.3 1.3 0.3]\n",
      " [5.4 3.9 1.7 0.4]\n",
      " [6.2 2.9 4.3 1.3]\n",
      " [5.5 2.4 3.8 1.1]\n",
      " [4.3 3.  1.1 0.1]\n",
      " [5.4 3.4 1.7 0.2]\n",
      " [5.5 2.5 4.  1.3]\n",
      " [5.1 3.3 1.7 0.5]\n",
      " [6.1 3.  4.6 1.4]\n",
      " [4.6 3.6 1.  0.2]\n",
      " [4.9 3.1 1.5 0.1]\n",
      " [5.  3.5 1.6 0.6]\n",
      " [5.6 2.5 3.9 1.1]\n",
      " [5.5 2.6 4.4 1.2]\n",
      " [5.4 3.  4.5 1.5]]\n",
      "\n",
      "Testing label set:\n",
      " [0 1 0 1 1 0 0 1 1 0 0 1 0 1 0 0 0 1 1 1]\n"
     ]
    }
   ],
   "source": [
    "# TODO: Split two classes into train and test sets.\n",
    "filtered_data = data[data[:, -1] != 2].copy()\n",
    "train_data, test_data = train_test_split(filtered_data)\n",
    "\n",
    "# TODO: Sepearte the features and lables for both the train and test set.\n",
    "train_features, train_labels = class_split(train_data)\n",
    "test_features, test_labels = class_split(test_data)\n",
    "\n",
    "print(\"Training feature set: \\n\", train_features)\n",
    "print(\"Training label set: \\n\", train_labels)\n",
    "print(\"\\nTesting feature set:\\n\", test_features)\n",
    "print(\"\\nTesting label set:\\n\", test_labels)"
   ]
  },
  {
   "cell_type": "markdown",
   "metadata": {},
   "source": [
    "### 7) Class A vs Class B for binary classification\n",
    "\n",
    "**Note:** You might need to go back and forth a bit in the following cells during your implementation of your code.\n",
    "\n",
    "We have to get the probability from two sets of classes and compare the two probabilities in order to make a propper prediction.\n",
    "\n",
    "Here we will implement two functions to make this possible. We seperate these functions to make the implementation of the ROC-curve easier later on.\n",
    "\n",
    "**Function 1: naive_bayes_prediction** \n",
    "* A function that returns the probabilities for each class the model for a single datapoint.\n",
    "\n",
    "**Function 2: probabilities_to_prediction**\n",
    "* A function that takes in probabilities and returns a prediction."
   ]
  },
  {
   "cell_type": "code",
   "execution_count": 14,
   "metadata": {},
   "outputs": [],
   "source": [
    "def naive_bayes_prediction(feature_stats, data_point):\n",
    "    probabilities = {}\n",
    "    \n",
    "    for class_label, stats in feature_stats.items():\n",
    "        likelihood = 1\n",
    "        \n",
    "        prior = stats['prior']\n",
    "        \n",
    "        for i, feature_value in enumerate(data_point):\n",
    "            mean = stats['mean'][i]\n",
    "            std_dev = stats['std'][i]\n",
    "            prob_density = gaussian_probability_density_function(feature_value, mean, std_dev)\n",
    "            likelihood *= prob_density\n",
    "        \n",
    "        prob = likelihood * prior\n",
    "        probabilities[class_label] = prob\n",
    "\n",
    "    total_prob = sum(probabilities.values())\n",
    "\n",
    "    if total_prob > 0:\n",
    "        probabilities = {class_label: probability / total_prob for class_label, probability in probabilities.items()}\n",
    "\n",
    "    return probabilities"
   ]
  },
  {
   "cell_type": "code",
   "execution_count": 15,
   "metadata": {},
   "outputs": [],
   "source": [
    "def probabilities_to_prediction(probabilities):\n",
    "    class_prediction = max(probabilities, key=probabilities.get)\n",
    "    return class_prediction"
   ]
  },
  {
   "cell_type": "markdown",
   "metadata": {},
   "source": [
    "To test the function we need the feature metrics from the classes we choose. \n",
    "\n",
    "**Note:** Choose the correct train/test set and the correct feature/label split!"
   ]
  },
  {
   "cell_type": "code",
   "execution_count": 16,
   "metadata": {},
   "outputs": [
    {
     "name": "stdout",
     "output_type": "stream",
     "text": [
      "{np.int64(0): {'mean': array([5.0325, 3.4575, 1.4675, 0.235 ]), 'std': array([0.33940205, 0.3583905 , 0.15064445, 0.08529361]), 'prior': 0.5}, np.int64(1): {'mean': array([5.9975, 2.78  , 4.2875, 1.34  ]), 'std': array([0.51695624, 0.31480152, 0.47968088, 0.20099751]), 'prior': 0.5}}\n"
     ]
    }
   ],
   "source": [
    "# TODO: Get the feature metrics for the classes.\n",
    "feature_stats = calculate_feature_statistics(train_features, train_labels)\n",
    "print(feature_stats)"
   ]
  },
  {
   "cell_type": "markdown",
   "metadata": {},
   "source": [
    "Now we should have implemented all the neccessary parts to train a naive bayes algorithm and do inference on it. Implement a small test workflow for two of your chosen classes."
   ]
  },
  {
   "cell_type": "code",
   "execution_count": 17,
   "metadata": {},
   "outputs": [
    {
     "name": "stdout",
     "output_type": "stream",
     "text": [
      "Accuracy: 100.00%\n",
      "Probabilities:\n",
      " {np.int64(0): np.float64(1.6296844018805543e-135), np.int64(1): np.float64(1.0)}\n",
      "Test labels:\n",
      " [0 1 0 1 1 0 0 1 1 0 0 1 0 1 0 0 0 1 1 1]\n",
      "Predictions:\n",
      " [np.int64(0), np.int64(1), np.int64(0), np.int64(1), np.int64(1), np.int64(0), np.int64(0), np.int64(1), np.int64(1), np.int64(0), np.int64(0), np.int64(1), np.int64(0), np.int64(1), np.int64(0), np.int64(0), np.int64(0), np.int64(1), np.int64(1), np.int64(1)]\n"
     ]
    }
   ],
   "source": [
    "# TODO: Test the \"naive_bayes_prediction\" function and implement all neccessary code for it to work.\n",
    "predictions = []\n",
    "for data_point in test_features:\n",
    "    probabilities = naive_bayes_prediction(feature_stats, data_point)\n",
    "    prediction = probabilities_to_prediction(probabilities)\n",
    "    predictions.append(prediction)\n",
    "\n",
    "# Calculate accuracy\n",
    "accuracy = np.mean(predictions == test_labels)\n",
    "print(f'Accuracy: {accuracy * 100:.2f}%')\n",
    "\n",
    "# TODO: Print the predicted class and the actual class for the test set\n",
    "print('Probabilities:\\n',probabilities)\n",
    "print('Test labels:\\n',test_labels)\n",
    "print('Predictions:\\n', predictions)"
   ]
  },
  {
   "cell_type": "markdown",
   "metadata": {},
   "source": [
    "## ROC-curve\n",
    "\n",
    "A ROC curve, or *Receiver Operating Characteristic curve*, is a graphical plot that illustrates the performance of a binary classifier such as our Naive Bayes model.\n",
    "\n",
    "More info can be found in the course material and here: [https://en.wikipedia.org/wiki/Receiver_operating_characteristic](https://en.wikipedia.org/wiki/Receiver_operating_characteristic)\n",
    "\n",
    "Another good illustration by Google can be found here: [https://developers.google.com/machine-learning/crash-course/classification/roc-and-auc](https://developers.google.com/machine-learning/crash-course/classification/roc-and-auc)\n",
    "\n",
    "Now that we have a prediction model, we would want to try it out and test it using a ROC-curve."
   ]
  },
  {
   "cell_type": "markdown",
   "metadata": {},
   "source": [
    "### 8) True Positive Rate (TPR) and False Positive Rate (FPR)\n",
    "\n",
    "From our prediction function we get probabilities, and for prediction purposes we have just predicted the one with the highest probability.\n",
    "\n",
    "To plot a ROC-curve, we need the TPR and FPR for the binary classification. We will implement this here.\n",
    "\n",
    "**Note 1:** The threshold is is a value that goes from 0 to 1. \n",
    "\n",
    "**Note 2:** One of the two classes will be seen as \"the positive class\" (prediction over the threshold) and the other as \"the negative class\" (prediction under the threshold).\n",
    "\n",
    "**Note 3:** The threshold stepsize will decide the size of the returned TPR/FPR list. A value of 0.1 will give 10 elements (0 to 1 in increments of 0.1)"
   ]
  },
  {
   "cell_type": "code",
   "execution_count": 18,
   "metadata": {},
   "outputs": [
    {
     "name": "stdout",
     "output_type": "stream",
     "text": [
      "Python list: [0.0, 0.1, 0.2, 0.3, 0.4, 0.5, 0.6, 0.7, 0.8, 0.9]\n",
      "Numpy linspace: [0.  0.1 0.2 0.3 0.4 0.5 0.6 0.7 0.8 0.9 1. ]\n",
      "Numpy linspace (no endpoint): [0.  0.1 0.2 0.3 0.4 0.5 0.6 0.7 0.8 0.9]\n"
     ]
    }
   ],
   "source": [
    "# Stepsize demonstration\n",
    "print(\"Python list:\", [x/10 for x in range(0,10,1)])\n",
    "\n",
    "# Stepsize demonstration with numpy:\n",
    "print(\"Numpy linspace:\", np.linspace(0,1,11))\n",
    "print(\"Numpy linspace (no endpoint):\", np.linspace(0,1,10,endpoint=False))"
   ]
  },
  {
   "cell_type": "code",
   "execution_count": 19,
   "metadata": {},
   "outputs": [],
   "source": [
    "def TPR_and_FPR(prediction_probabilities, test_labels, threshold_stepsize=0.1):\n",
    "\n",
    "    unique_classes = np.unique(test_labels)\n",
    "    class_1, class_2 = unique_classes[0], unique_classes[1]\n",
    "    true_binary = np.array([1 if label == class_2 else 0 for label in test_labels])\n",
    "\n",
    "    scores_binary = np.array(prediction_probabilities)\n",
    "    thresholds = np.linspace(0, 1, int(1 / threshold_stepsize), endpoint=False)\n",
    "    \n",
    "    TPR = [0.0]\n",
    "    FPR = [0.0]\n",
    "   \n",
    "    for threshold in thresholds:\n",
    "\n",
    "        predicted = (scores_binary >= threshold).astype(int)\n",
    "\n",
    "        TP = np.sum((predicted == 1) & (true_binary == 1))\n",
    "        FP = np.sum((predicted == 1) & (true_binary == 0))\n",
    "        FN = np.sum((predicted == 0) & (true_binary == 1))\n",
    "        TN = np.sum((predicted == 0) & (true_binary == 0))\n",
    "       \n",
    "        TPR_value = TP / (TP + FN) if (TP + FN) > 0 else 0\n",
    "        FPR_value = FP / (FP + TN) if (FP + TN) > 0 else 0\n",
    "        # print(f\"predicted: {predicted}, scores_binary: {scores_binary}, true_binary: {true_binary}, TPR_value: {TPR_value}, FPR_value: {FPR_value}\")\n",
    "\n",
    "        TPR.append(TPR_value)\n",
    "        FPR.append(FPR_value)\n",
    "\n",
    "    return TPR, FPR\n",
    "\n"
   ]
  },
  {
   "cell_type": "code",
   "execution_count": 20,
   "metadata": {},
   "outputs": [
    {
     "name": "stdout",
     "output_type": "stream",
     "text": [
      "True Positive Rates (TPR): [0.0, np.float64(1.0), np.float64(1.0), np.float64(1.0), np.float64(1.0), np.float64(1.0), np.float64(1.0), np.float64(1.0), np.float64(1.0), np.float64(1.0), np.float64(1.0)]\n",
      "\n",
      "False Positive Rates (FPR): [0.0, np.float64(1.0), np.float64(0.0), np.float64(0.0), np.float64(0.0), np.float64(0.0), np.float64(0.0), np.float64(0.0), np.float64(0.0), np.float64(0.0), np.float64(0.0)]\n"
     ]
    }
   ],
   "source": [
    "\n",
    "# TODO: Test the \"TPR_and_FPR\" function on the model\n",
    "unique_classes = np.unique(test_labels)\n",
    "class_1, class_2 = unique_classes[0], unique_classes[1]\n",
    "\n",
    "prediction_probabilities = np.array([\n",
    "    naive_bayes_prediction(feature_stats, test_features[i]).get(class_2, class_1) for i in range(len(test_features))\n",
    "])\n",
    "\n",
    "TPR, FPR = TPR_and_FPR(prediction_probabilities, test_labels, threshold_stepsize = 0.1)\n",
    "\n",
    "# Print the results\n",
    "print(\"True Positive Rates (TPR):\", TPR)\n",
    "print(\"\\nFalse Positive Rates (FPR):\", FPR)"
   ]
  },
  {
   "cell_type": "markdown",
   "metadata": {},
   "source": [
    "How does the values change if you change the threshold stepsize? \n",
    "\n",
    "How does the values change if you change the classes you compare?"
   ]
  },
  {
   "cell_type": "markdown",
   "metadata": {},
   "source": [
    "### 9) Plot the TPR and FPR\n",
    "\n",
    "To better see what is going on, we can plot the TPR and FPR. We can also calculate the Area Under the ROC Curve (AUC or AUROC) at the same time."
   ]
  },
  {
   "cell_type": "code",
   "execution_count": 21,
   "metadata": {},
   "outputs": [],
   "source": [
    "\n",
    "def plot_ROC(TPR, FPR, class_1, class_2):\n",
    "\n",
    "    class_names = {0: 'Iris-setosa', 1: 'Iris-versicolor', 2: 'Iris-virginica'}\n",
    "    class_1_name = class_names.get(class_1, f\"Class {class_1}\")\n",
    "    class_2_name = class_names.get(class_2, f\"Class {class_2}\")\n",
    "    \n",
    "    auc_score = np.trapz(np.sort(TPR), np.sort(FPR))\n",
    "    \n",
    "    plt.plot(np.sort(FPR), np.sort(TPR), color='b', label=f\"AUC = {auc_score:.2f}\")\n",
    "    plt.plot([0, 1], [0, 1], linestyle='--', color='gray', label=\"Random Classifier\")\n",
    "    \n",
    "    \n",
    "    plt.xlabel('False Positive Rate')\n",
    "    plt.ylabel('True Positive Rate')\n",
    "    plt.title(f\"ROC Curve: {class_1_name} vs. {class_2_name}\")\n",
    "    plt.legend()\n",
    " \n",
    "    plt.show()\n"
   ]
  },
  {
   "cell_type": "code",
   "execution_count": 22,
   "metadata": {},
   "outputs": [
    {
     "name": "stderr",
     "output_type": "stream",
     "text": [
      "C:\\Users\\Annie\\AppData\\Local\\Temp\\ipykernel_37240\\1964918477.py:7: DeprecationWarning: `trapz` is deprecated. Use `trapezoid` instead, or one of the numerical integration functions in `scipy.integrate`.\n",
      "  auc_score = np.trapz(np.sort(TPR), np.sort(FPR))\n"
     ]
    },
    {
     "data": {
      "image/png": "[encoded data removed]",
      "text/plain": [
       "<Figure size 640x480 with 1 Axes>"
      ]
     },
     "metadata": {},
     "output_type": "display_data"
    }
   ],
   "source": [
    "# TODO: Test the plotting function on the TPR and FPR you just calculated.\n",
    "\n",
    "plot_ROC(TPR, FPR,class_1, class_2)"
   ]
  },
  {
   "cell_type": "markdown",
   "metadata": {},
   "source": [
    "## Cross-validation\n",
    "\n",
    "The final task is to take everything you have implemented so far and apply it in a cross-validation loop.\n",
    "\n",
    "**Note 1:** To better reflect a real scenarios, you should shuffle the data before doing cross-validation.\n",
    "\n",
    "**Note 2:** When using cross-validation, the interesting thing is the mean performance (mean AUC, mean accuracy, mean ROC-curve).\n",
    "\n",
    "**Note 3:** This part is a bit more free in terms of implementation, but make sure to use some of the previously implemented functions."
   ]
  },
  {
   "cell_type": "markdown",
   "metadata": {},
   "source": [
    "### 10) Cross-validation loop"
   ]
  },
  {
   "cell_type": "code",
   "execution_count": 23,
   "metadata": {},
   "outputs": [],
   "source": [
    "def cross_validation(data, target, folds=10, threshold_stepsize=0.1):\n",
    "\n",
    "    unique_classes = np.unique(target)\n",
    "    class_1, class_2 = unique_classes[0], unique_classes[1]\n",
    "\n",
    "    indices = list(range(len(data)))\n",
    "    np.random.shuffle(indices)\n",
    "\n",
    "    shuffled_data, shuffled_target = data[indices], target[indices]\n",
    "    fold_size = len(data) // folds\n",
    "\n",
    "    all_TPR, all_FPR = [], []\n",
    "\n",
    "    for i in range(folds):\n",
    "\n",
    "        start, end = i * fold_size, (i + 1) * fold_size\n",
    "        test_data, test_labels = shuffled_data[start:end], shuffled_target[start:end]\n",
    "        train_data = np.concatenate((shuffled_data[:start], shuffled_data[end:]), axis=0)\n",
    "        train_labels = np.concatenate((shuffled_target[:start], shuffled_target[end:]), axis=0)\n",
    "        feature_stats = calculate_feature_statistics(train_data, train_labels)\n",
    "\n",
    "        prediction_probabilities = [naive_bayes_prediction(feature_stats, x)[class_2] for x in test_data]\n",
    "\n",
    "        TPR, FPR = TPR_and_FPR(prediction_probabilities, test_labels, threshold_stepsize)\n",
    "\n",
    "        all_TPR.append(TPR)\n",
    "        all_FPR.append(FPR)\n",
    "\n",
    "    mean_TPR = np.mean(all_TPR, axis=0)\n",
    "    mean_FPR = np.mean(all_FPR, axis=0)\n",
    "\n",
    "    plot_ROC(mean_TPR, mean_FPR, class_1, class_2)\n",
    "\n",
    "    return mean_TPR, mean_FPR\n"
   ]
  },
  {
   "cell_type": "markdown",
   "metadata": {},
   "source": [
    "### 11) 10-fold Cross-validation on all classes\n",
    "\n",
    "Test the \"cross_validation\" function on all the classes against eachother using 10 folds.\n",
    "\n",
    "* Iris-setosa vs Iris-versicolor\n",
    "* Iris-setosa vs Iris-virginica\n",
    "* Iris-versicolor vs Iris-virginica"
   ]
  },
  {
   "cell_type": "code",
   "execution_count": 24,
   "metadata": {},
   "outputs": [
    {
     "name": "stderr",
     "output_type": "stream",
     "text": [
      "C:\\Users\\Annie\\AppData\\Local\\Temp\\ipykernel_37240\\1964918477.py:7: DeprecationWarning: `trapz` is deprecated. Use `trapezoid` instead, or one of the numerical integration functions in `scipy.integrate`.\n",
      "  auc_score = np.trapz(np.sort(TPR), np.sort(FPR))\n"
     ]
    },
    {
     "data": {
      "image/png": "[encoded data removed]",
      "text/plain": [
       "<Figure size 640x480 with 1 Axes>"
      ]
     },
     "metadata": {},
     "output_type": "display_data"
    },
    {
     "data": {
      "text/plain": [
       "(array([0., 1., 1., 1., 1., 1., 1., 1., 1., 1., 1.]),\n",
       " array([0., 1., 0., 0., 0., 0., 0., 0., 0., 0., 0.]))"
      ]
     },
     "execution_count": 24,
     "metadata": {},
     "output_type": "execute_result"
    }
   ],
   "source": [
    "# TODO: Implement and test cross-validation function on all classes.\n",
    "\n",
    "setosa_versicolor_data = np.vstack((iris_setosa, iris_versicolor))\n",
    "\n",
    "compare_A_data, compare_A_target = class_split(setosa_versicolor_data)  # Adjusted variable name\n",
    "\n",
    "cross_validation(compare_A_data, compare_A_target, folds=10, threshold_stepsize=0.1)\n"
   ]
  },
  {
   "cell_type": "code",
   "execution_count": 25,
   "metadata": {},
   "outputs": [
    {
     "name": "stderr",
     "output_type": "stream",
     "text": [
      "C:\\Users\\Annie\\AppData\\Local\\Temp\\ipykernel_37240\\1964918477.py:7: DeprecationWarning: `trapz` is deprecated. Use `trapezoid` instead, or one of the numerical integration functions in `scipy.integrate`.\n",
      "  auc_score = np.trapz(np.sort(TPR), np.sort(FPR))\n"
     ]
    },
    {
     "name": "stdout",
     "output_type": "stream",
     "text": [
      "Iris Versicolor vs Iris Virginica\n"
     ]
    },
    {
     "data": {
      "image/png": "[encoded data removed]",
      "text/plain": [
       "<Figure size 640x480 with 1 Axes>"
      ]
     },
     "metadata": {},
     "output_type": "display_data"
    },
    {
     "data": {
      "text/plain": [
       "(array([0., 1., 1., 1., 1., 1., 1., 1., 1., 1., 1.]),\n",
       " array([0., 1., 0., 0., 0., 0., 0., 0., 0., 0., 0.]))"
      ]
     },
     "execution_count": 25,
     "metadata": {},
     "output_type": "execute_result"
    }
   ],
   "source": [
    "\n",
    "print(\"Iris Versicolor vs Iris Virginica\")\n",
    "\n",
    "setosa_virginica_data = np.vstack((iris_setosa, iris_virginica))\n",
    "\n",
    "compare_B_data, compare_B_target = class_split(setosa_virginica_data)  # Adjusted variable name\n",
    "\n",
    "cross_validation(compare_B_data, compare_B_target, folds=10, threshold_stepsize=0.1)\n"
   ]
  },
  {
   "cell_type": "code",
   "execution_count": 26,
   "metadata": {},
   "outputs": [
    {
     "name": "stdout",
     "output_type": "stream",
     "text": [
      "Iris Versicolor vs Iris Virginica\n"
     ]
    },
    {
     "name": "stderr",
     "output_type": "stream",
     "text": [
      "C:\\Users\\Annie\\AppData\\Local\\Temp\\ipykernel_37240\\1964918477.py:7: DeprecationWarning: `trapz` is deprecated. Use `trapezoid` instead, or one of the numerical integration functions in `scipy.integrate`.\n",
      "  auc_score = np.trapz(np.sort(TPR), np.sort(FPR))\n"
     ]
    },
    {
     "data": {
      "image/png": "[encoded data removed]",
      "text/plain": [
       "<Figure size 640x480 with 1 Axes>"
      ]
     },
     "metadata": {},
     "output_type": "display_data"
    },
    {
     "data": {
      "text/plain": [
       "(array([0.        , 1.        , 0.96388889, 0.96388889, 0.94960317,\n",
       "        0.94960317, 0.93293651, 0.93293651, 0.93293651, 0.89365079,\n",
       "        0.84865079]),\n",
       " array([0.        , 1.        , 0.18      , 0.14      , 0.12      ,\n",
       "        0.05      , 0.05      , 0.03333333, 0.03333333, 0.03333333,\n",
       "        0.03333333]))"
      ]
     },
     "execution_count": 26,
     "metadata": {},
     "output_type": "execute_result"
    }
   ],
   "source": [
    "\n",
    "print(\"Iris Versicolor vs Iris Virginica\")\n",
    "\n",
    "versicolor_virginica_data = np.vstack((iris_versicolor, iris_virginica))\n",
    "\n",
    "compare_C_data, compare_C_target = class_split(versicolor_virginica_data)  # Adjusted variable name\n",
    "\n",
    "cross_validation(compare_C_data, compare_C_target, folds=10, threshold_stepsize=0.1)\n"
   ]
  },
  {
   "cell_type": "markdown",
   "metadata": {},
   "source": [
    "# Questions for examination:\n",
    "\n",
    "In addition to completing the assignment with all its tasks, you should also prepare to answer the following questions:\n",
    "\n",
    "1) Why is it called \"naive bayes\"?\n",
    "\n",
    "2) What are some downsides of the naive bayes learning algorithm?\n",
    "\n",
    "3) When using ROC-curves, what is the theoretical best and worst result you can get?\n",
    "\n",
    "4) When using ROC-curves, in this assignment for example, is a higher threshold-stepsize always better?  \n",
    "\n",
    "5) When using cross-validation and ROC-curves, why is it important to take the correct mean values? What could go wrong?\n"
   ]
  },
  {
   "cell_type": "code",
   "execution_count": null,
   "metadata": {},
   "outputs": [],
   "source": []
  },
  {
   "cell_type": "markdown",
   "metadata": {},
   "source": [
    "# Finished!\n",
    "\n",
    "Was part of the setup incorrect? Did you spot any inconsistencies in the assignment? Could something improve?\n",
    "\n",
    "If so, please write them and send via email and send it to:\n",
    "\n",
    "* marcus.gullstrand@ju.se\n",
    "\n",
    "Thank you!"
   ]
  }
 ],
 "metadata": {
  "kernelspec": {
   "display_name": "ml",
   "language": "python",
   "name": "ml"
  },
  "language_info": {
   "codemirror_mode": {
    "name": "ipython",
    "version": 3
   },
   "file_extension": ".py",
   "mimetype": "text/x-python",
   "name": "python",
   "nbconvert_exporter": "python",
   "pygments_lexer": "ipython3",
   "version": "3.12.3"
  }
 },
 "nbformat": 4,
 "nbformat_minor": 4
}
